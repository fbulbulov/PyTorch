{
 "cells": [
  {
   "cell_type": "markdown",
   "id": "f378e8c2",
   "metadata": {},
   "source": [
    "# Working with Images & Logistic Regression in PyTorch"
   ]
  },
  {
   "cell_type": "markdown",
   "id": "44e6d2fb",
   "metadata": {},
   "source": [
    "## Working with Images\n",
    "\n"
   ]
  },
  {
   "cell_type": "markdown",
   "id": "e5737c7f",
   "metadata": {},
   "source": [
    "In this tutorial, we'll use our existing knowledge of PyTorch and linear regression to solve a very different kind of problem: image classification. We'll use the famous MNIST Handwritten Digits Database as our training dataset. It consists of 28px by 28px grayscale images of handwritten digits (0 to 9) and labels for each image indicating which digit it represents. Here are some sample images from the dataset:\n",
    "\n",
    "<img src=\"files/CAYnuo1.jpg\">\n",
    "\n",
    "We begin by installing and importing `torch` and `torchvision`. `torchvision `contains some utilities for working with image data. It also provides helper classes to download and import popular datasets like MNIST automatically\n",
    "\n"
   ]
  },
  {
   "cell_type": "code",
   "execution_count": 1,
   "id": "c9d2bddd",
   "metadata": {
    "ExecuteTime": {
     "end_time": "2021-06-11T20:14:26.199875Z",
     "start_time": "2021-06-11T20:14:19.680778Z"
    }
   },
   "outputs": [],
   "source": [
    "# Imports\n",
    "import torch\n",
    "import torchvision\n",
    "from torchvision.datasets import MNIST"
   ]
  },
  {
   "cell_type": "code",
   "execution_count": 2,
   "id": "f066d6a6",
   "metadata": {
    "ExecuteTime": {
     "end_time": "2021-06-11T20:14:27.022945Z",
     "start_time": "2021-06-11T20:14:26.201820Z"
    }
   },
   "outputs": [],
   "source": [
    "# Download training dataset\n",
    "dataset=MNIST(root='data/', download=True)"
   ]
  },
  {
   "cell_type": "code",
   "execution_count": 3,
   "id": "b1b69c10",
   "metadata": {
    "ExecuteTime": {
     "end_time": "2021-06-11T20:14:27.084894Z",
     "start_time": "2021-06-11T20:14:27.025927Z"
    }
   },
   "outputs": [
    {
     "data": {
      "text/plain": [
       "60000"
      ]
     },
     "execution_count": 3,
     "metadata": {},
     "output_type": "execute_result"
    }
   ],
   "source": [
    "dataset=MNIST(root='data/')\n",
    "len(dataset)"
   ]
  },
  {
   "cell_type": "markdown",
   "id": "d063fe81",
   "metadata": {},
   "source": [
    "The dataset has 60,000 images that we'll use to train the model. There is also an additional test set of 10,000 images used for evaluating models and reporting metrics in papers and reports. We can create the test dataset using the MNIST class by passing `train=False` to the constructor."
   ]
  },
  {
   "cell_type": "code",
   "execution_count": 4,
   "id": "33bda902",
   "metadata": {
    "ExecuteTime": {
     "end_time": "2021-06-11T20:14:29.018328Z",
     "start_time": "2021-06-11T20:14:28.640834Z"
    }
   },
   "outputs": [
    {
     "data": {
      "text/plain": [
       "10000"
      ]
     },
     "execution_count": 4,
     "metadata": {},
     "output_type": "execute_result"
    }
   ],
   "source": [
    "test_dataset=MNIST(root='data/', train=False)\n",
    "len(test_dataset)"
   ]
  },
  {
   "cell_type": "code",
   "execution_count": 5,
   "id": "06c79cfe",
   "metadata": {
    "ExecuteTime": {
     "end_time": "2021-06-11T20:14:31.786806Z",
     "start_time": "2021-06-11T20:14:31.736816Z"
    }
   },
   "outputs": [
    {
     "data": {
      "text/plain": [
       "(<PIL.Image.Image image mode=L size=28x28 at 0x1F48FB6B160>, 5)"
      ]
     },
     "execution_count": 5,
     "metadata": {},
     "output_type": "execute_result"
    }
   ],
   "source": [
    "dataset[0]"
   ]
  },
  {
   "cell_type": "markdown",
   "id": "4ff0fc88",
   "metadata": {},
   "source": [
    "It's a pair, consisting of a 28x28px image and a label. The image is an object of the class PIL.Image.Image, which is a part of the Python imaging library `Pillow`. We can view the image within Jupyter using `matplotlib`, the de-facto plotting and graphing library for data science in Python."
   ]
  },
  {
   "cell_type": "code",
   "execution_count": 6,
   "id": "0426c0ac",
   "metadata": {
    "ExecuteTime": {
     "end_time": "2021-06-11T20:14:34.161703Z",
     "start_time": "2021-06-11T20:14:33.873804Z"
    }
   },
   "outputs": [],
   "source": [
    "import matplotlib.pyplot as plt\n",
    "%matplotlib inline"
   ]
  },
  {
   "cell_type": "markdown",
   "id": "d545533b",
   "metadata": {},
   "source": [
    "The statement `%matplotlib` inline indicates to Jupyter that we want to plot the graphs within the notebook. Without this line, Jupyter will show the image in a popup. Statements starting with `%` are called magic commands and are used to configure the behavior of Jupyter itself. You can find a full list of magic commands here: https://ipython.readthedocs.io/en/stable/interactive/magics.html .\n",
    "\n",
    "Let's look at a couple of images from the dataset."
   ]
  },
  {
   "cell_type": "code",
   "execution_count": 7,
   "id": "cb32556f",
   "metadata": {
    "ExecuteTime": {
     "end_time": "2021-06-11T20:14:36.616697Z",
     "start_time": "2021-06-11T20:14:36.397840Z"
    }
   },
   "outputs": [
    {
     "name": "stdout",
     "output_type": "stream",
     "text": [
      "Label: 5\n"
     ]
    },
    {
     "data": {
      "image/png": "[encoded data removed]",
      "text/plain": [
       "<Figure size 432x288 with 1 Axes>"
      ]
     },
     "metadata": {
      "needs_background": "light"
     },
     "output_type": "display_data"
    }
   ],
   "source": [
    "image,label=dataset[0]\n",
    "plt.imshow(image,cmap='gray')\n",
    "print('Label:', label)"
   ]
  },
  {
   "cell_type": "code",
   "execution_count": 8,
   "id": "290796ab",
   "metadata": {
    "ExecuteTime": {
     "end_time": "2021-06-11T20:14:37.867168Z",
     "start_time": "2021-06-11T20:14:37.720768Z"
    }
   },
   "outputs": [
    {
     "name": "stdout",
     "output_type": "stream",
     "text": [
      "Label: 3\n"
     ]
    },
    {
     "data": {
      "image/png": "[encoded data removed]",
      "text/plain": [
       "<Figure size 432x288 with 1 Axes>"
      ]
     },
     "metadata": {
      "needs_background": "light"
     },
     "output_type": "display_data"
    }
   ],
   "source": [
    "image, label = dataset[10]\n",
    "plt.imshow(image, cmap='gray')\n",
    "print('Label:', label)"
   ]
  },
  {
   "cell_type": "markdown",
   "id": "222273f4",
   "metadata": {},
   "source": [
    "It's evident that these images are relatively small in size, and recognizing the digits can sometimes be challenging even for the human eye. While it's useful to look at these images, there's just one problem here: PyTorch doesn't know how to work with images. We need to convert the images into tensors. We can do this by specifying a transform while creating our dataset."
   ]
  },
  {
   "cell_type": "code",
   "execution_count": 9,
   "id": "510aec79",
   "metadata": {
    "ExecuteTime": {
     "end_time": "2021-06-11T20:14:41.930768Z",
     "start_time": "2021-06-11T20:14:41.926789Z"
    }
   },
   "outputs": [],
   "source": [
    "import torchvision.transforms as transforms"
   ]
  },
  {
   "cell_type": "markdown",
   "id": "361af341",
   "metadata": {},
   "source": [
    "PyTorch datasets allow us to specify one or more transformation functions that are applied to the images as they are loaded. The `torchvision.transforms` module contains many such predefined functions. We'll use the `ToTensor` transform to convert images into PyTorch tensors."
   ]
  },
  {
   "cell_type": "code",
   "execution_count": 10,
   "id": "21e3ad0a",
   "metadata": {
    "ExecuteTime": {
     "end_time": "2021-06-11T20:14:43.834745Z",
     "start_time": "2021-06-11T20:14:43.793769Z"
    }
   },
   "outputs": [],
   "source": [
    "# MNIST dataset (images and labels)\n",
    "dataset=MNIST(root='data/', \n",
    "              train=True, \n",
    "              transform=transforms.ToTensor())"
   ]
  },
  {
   "cell_type": "code",
   "execution_count": 11,
   "id": "0a4e4ff1",
   "metadata": {
    "ExecuteTime": {
     "end_time": "2021-06-11T20:14:45.428726Z",
     "start_time": "2021-06-11T20:14:45.421730Z"
    }
   },
   "outputs": [
    {
     "name": "stdout",
     "output_type": "stream",
     "text": [
      "torch.Size([1, 28, 28]) 5\n"
     ]
    }
   ],
   "source": [
    "img_tensor, label = dataset[0]\n",
    "print(img_tensor.shape, label)"
   ]
  },
  {
   "cell_type": "markdown",
   "id": "e61ea02d",
   "metadata": {},
   "source": [
    "The image is now converted to a 1x28x28 tensor. The first dimension tracks color channels. The second and third dimensions represent pixels along the height and width of the image, respectively. Since images in the MNIST dataset are grayscale, there's just one channel. Other datasets have images with color, in which case there are three channels: red, green, and blue (RGB).\n",
    "\n",
    "Let's look at some sample values inside the tensor."
   ]
  },
  {
   "cell_type": "code",
   "execution_count": 12,
   "id": "07bf7bd6",
   "metadata": {
    "ExecuteTime": {
     "end_time": "2021-06-11T20:14:48.008840Z",
     "start_time": "2021-06-11T20:14:47.770769Z"
    }
   },
   "outputs": [
    {
     "name": "stdout",
     "output_type": "stream",
     "text": [
      "tensor([[0.0039, 0.6039, 0.9922, 0.3529, 0.0000],\n",
      "        [0.0000, 0.5451, 0.9922, 0.7451, 0.0078],\n",
      "        [0.0000, 0.0431, 0.7451, 0.9922, 0.2745],\n",
      "        [0.0000, 0.0000, 0.1373, 0.9451, 0.8824],\n",
      "        [0.0000, 0.0000, 0.0000, 0.3176, 0.9412]])\n",
      "tensor(1.) tensor(0.)\n"
     ]
    }
   ],
   "source": [
    "print(img_tensor[0,10:15,10:15])\n",
    "print(torch.max(img_tensor),torch.min(img_tensor))"
   ]
  },
  {
   "cell_type": "markdown",
   "id": "2ebf589e",
   "metadata": {},
   "source": [
    "The values range from 0 to 1, with 0 representing black, 1 white, and the values in between different shades of grey. We can also plot the tensor as an image using plt.imshow."
   ]
  },
  {
   "cell_type": "code",
   "execution_count": 13,
   "id": "1e32ea00",
   "metadata": {
    "ExecuteTime": {
     "end_time": "2021-06-11T20:14:50.310661Z",
     "start_time": "2021-06-11T20:14:50.156732Z"
    }
   },
   "outputs": [
    {
     "data": {
      "text/plain": [
       "<matplotlib.image.AxesImage at 0x1f49b463a00>"
      ]
     },
     "execution_count": 13,
     "metadata": {},
     "output_type": "execute_result"
    },
    {
     "data": {
      "image/png": "[encoded data removed]",
      "text/plain": [
       "<Figure size 432x288 with 1 Axes>"
      ]
     },
     "metadata": {
      "needs_background": "light"
     },
     "output_type": "display_data"
    }
   ],
   "source": [
    "plt.imshow(img_tensor[0,10:15,10:15],cmap='gray')"
   ]
  },
  {
   "cell_type": "markdown",
   "id": "1560e5cb",
   "metadata": {},
   "source": [
    "Note that we need to pass just the 28x28 matrix to `plt.imshow`, without a channel dimension. We also pass a color map (`cmap=gray`) to indicate that we want to see a grayscale image."
   ]
  },
  {
   "cell_type": "markdown",
   "id": "8cdd2158",
   "metadata": {},
   "source": [
    "## Training and Validation Datasets\n"
   ]
  },
  {
   "cell_type": "markdown",
   "id": "27a16e1a",
   "metadata": {},
   "source": [
    "While building real-world machine learning models, it is quite common to split the dataset into three parts:\n",
    "\n",
    "- Training set - used to train the model, i.e., compute the loss and adjust the model's weights using gradient descent.\n",
    "- Validation set - used to evaluate the model during training, adjust hyperparameters (learning rate, etc.), and pick the best version of the model.\n",
    "- Test set - used to compare different models or approaches and report the model's final accuracy.\n",
    "\n",
    "In the MNIST dataset, there are 60,000 training images and 10,000 test images. The test set is standardized so that different researchers can report their models' results against the same collection of images.\n",
    "\n",
    "Since there's no predefined validation set, we must manually split the 60,000 images into training and validation datasets. Let's set aside 10,000 randomly chosen images for validation. We can do this using the `random_spilt` method from PyTorch."
   ]
  },
  {
   "cell_type": "code",
   "execution_count": 14,
   "id": "46d1bc5b",
   "metadata": {
    "ExecuteTime": {
     "end_time": "2021-06-11T20:14:53.386446Z",
     "start_time": "2021-06-11T20:14:52.962904Z"
    }
   },
   "outputs": [
    {
     "data": {
      "text/plain": [
       "(50000, 10000)"
      ]
     },
     "execution_count": 14,
     "metadata": {},
     "output_type": "execute_result"
    }
   ],
   "source": [
    "from torch.utils.data import random_split\n",
    "train_ds,val_ds = random_split(dataset,[50000,10000])\n",
    "len(train_ds), len(val_ds)"
   ]
  },
  {
   "cell_type": "markdown",
   "id": "dd5934c3",
   "metadata": {},
   "source": [
    "It's essential to choose a random sample for creating a validation set. Training data is often sorted by the target labels, i.e., images of 0s, followed by 1s, followed by 2s, etc. If we create a validation set using the last 20% of images, it would only consist of 8s and 9s. In contrast, the training set would contain no 8s or 9s. Such a training-validation would make it impossible to train a useful model.\n",
    "\n",
    "We can now create data loaders to help us load the data in batches. We'll use a batch size of 128."
   ]
  },
  {
   "cell_type": "code",
   "execution_count": 15,
   "id": "f3d7ddb7",
   "metadata": {
    "ExecuteTime": {
     "end_time": "2021-06-11T20:14:55.528714Z",
     "start_time": "2021-06-11T20:14:55.524716Z"
    }
   },
   "outputs": [],
   "source": [
    "from torch.utils.data import DataLoader\n",
    "batch_size=128\n",
    "\n",
    "train_loader=DataLoader(train_ds, batch_size, shuffle=True)\n",
    "val_loader=DataLoader(val_ds, batch_size)"
   ]
  },
  {
   "cell_type": "markdown",
   "id": "13c530f9",
   "metadata": {},
   "source": [
    "We set `shuffle=True` for the training data loader to ensure that the batches generated in each epoch are different. This randomization helps generalize & speed up the training process. On the other hand, since the validation data loader is used only for evaluating the model, there is no need to shuffle the images."
   ]
  },
  {
   "cell_type": "markdown",
   "id": "4226dd2c",
   "metadata": {},
   "source": [
    "## Model\n",
    "Now that we have prepared our data loaders, we can define our model.\n",
    "\n",
    "- A **logistic regression model** is almost identical to a linear regression model. It contains weights and bias matrices, and the output is obtained using simple matrix operations (`pred = x @ w.t() + b`).\n",
    "\n",
    "- As we did with linear regression, we can use `nn.Linear` to create the model instead of manually creating and initializing the matrices.\n",
    "\n",
    "- Since `nn.Linear` expects each training example to be a vector, each `1x28x28` image tensor is flattened into a vector of size 784 (28*28) before being passed into the model.\n",
    "\n",
    "- The output for each image is a vector of size 10, with each element signifying the probability of a particular target label (i.e., 0 to 9). The predicted label for an image is simply the one with the highest probability."
   ]
  },
  {
   "cell_type": "code",
   "execution_count": 16,
   "id": "d5de2ddf",
   "metadata": {
    "ExecuteTime": {
     "end_time": "2021-06-11T20:14:58.438171Z",
     "start_time": "2021-06-11T20:14:58.216681Z"
    }
   },
   "outputs": [],
   "source": [
    "import torch.nn as nn\n",
    "\n",
    "input_size= 28*28\n",
    "num_classes = 10\n",
    "\n",
    "#Logistic regression model\n",
    "model=nn.Linear(input_size,num_classes)"
   ]
  },
  {
   "cell_type": "markdown",
   "id": "b41f94e8",
   "metadata": {},
   "source": [
    "Of course, this model is a lot larger than our previous model in terms of the number of parameters. Let's take a look at the weights and biases."
   ]
  },
  {
   "cell_type": "code",
   "execution_count": 17,
   "id": "258da695",
   "metadata": {
    "ExecuteTime": {
     "end_time": "2021-06-11T20:15:00.395799Z",
     "start_time": "2021-06-11T20:15:00.386824Z"
    }
   },
   "outputs": [
    {
     "name": "stdout",
     "output_type": "stream",
     "text": [
      "torch.Size([10, 784])\n"
     ]
    },
    {
     "data": {
      "text/plain": [
       "Parameter containing:\n",
       "tensor([[-0.0226, -0.0293,  0.0214,  ..., -0.0012,  0.0006,  0.0091],\n",
       "        [ 0.0141, -0.0205,  0.0087,  ...,  0.0275, -0.0099,  0.0123],\n",
       "        [-0.0016,  0.0265, -0.0146,  ...,  0.0170, -0.0032,  0.0031],\n",
       "        ...,\n",
       "        [ 0.0298, -0.0199, -0.0125,  ...,  0.0178, -0.0294, -0.0126],\n",
       "        [-0.0266, -0.0031, -0.0108,  ..., -0.0188, -0.0239,  0.0021],\n",
       "        [ 0.0070, -0.0179, -0.0344,  ...,  0.0026, -0.0072, -0.0208]],\n",
       "       requires_grad=True)"
      ]
     },
     "execution_count": 17,
     "metadata": {},
     "output_type": "execute_result"
    }
   ],
   "source": [
    "print(model.weight.shape)\n",
    "model.weight"
   ]
  },
  {
   "cell_type": "code",
   "execution_count": 18,
   "id": "b9c725d3",
   "metadata": {
    "ExecuteTime": {
     "end_time": "2021-06-11T20:15:02.610663Z",
     "start_time": "2021-06-11T20:15:02.603666Z"
    }
   },
   "outputs": [
    {
     "name": "stdout",
     "output_type": "stream",
     "text": [
      "torch.Size([10])\n"
     ]
    },
    {
     "data": {
      "text/plain": [
       "Parameter containing:\n",
       "tensor([ 0.0276,  0.0260,  0.0113, -0.0016, -0.0353, -0.0050,  0.0240, -0.0219,\n",
       "         0.0088,  0.0271], requires_grad=True)"
      ]
     },
     "execution_count": 18,
     "metadata": {},
     "output_type": "execute_result"
    }
   ],
   "source": [
    "print(model.bias.shape)\n",
    "model.bias"
   ]
  },
  {
   "cell_type": "markdown",
   "id": "395a48b6",
   "metadata": {},
   "source": [
    "Although there are a total of 7850 parameters here, conceptually, nothing has changed so far. Let's try and generate some outputs using our model. We'll take the first batch of 100 images from our dataset and pass them into our model.\n",
    "\n"
   ]
  },
  {
   "cell_type": "code",
   "execution_count": 19,
   "id": "c5d3a67a",
   "metadata": {
    "ExecuteTime": {
     "end_time": "2021-06-11T20:15:06.544837Z",
     "start_time": "2021-06-11T20:15:04.593693Z"
    }
   },
   "outputs": [
    {
     "name": "stdout",
     "output_type": "stream",
     "text": [
      "tensor([3, 7, 8, 2, 9, 1, 2, 5, 8, 1, 0, 3, 5, 7, 0, 8, 4, 6, 9, 5, 1, 5, 6, 0,\n",
      "        3, 2, 8, 9, 7, 3, 9, 2, 1, 7, 7, 0, 7, 3, 8, 9, 0, 4, 5, 5, 5, 8, 5, 4,\n",
      "        1, 0, 3, 8, 6, 1, 6, 9, 1, 2, 8, 0, 9, 9, 5, 5, 5, 1, 7, 3, 2, 3, 6, 5,\n",
      "        8, 0, 2, 3, 0, 7, 4, 5, 6, 3, 7, 1, 6, 9, 0, 5, 7, 8, 7, 5, 6, 0, 4, 9,\n",
      "        5, 4, 7, 0, 8, 5, 3, 8, 5, 2, 0, 6, 9, 6, 2, 0, 0, 6, 4, 0, 1, 9, 2, 5,\n",
      "        1, 4, 4, 2, 7, 1, 5, 6])\n",
      "torch.Size([128, 1, 28, 28])\n"
     ]
    },
    {
     "ename": "RuntimeError",
     "evalue": "mat1 and mat2 shapes cannot be multiplied (3584x28 and 784x10)",
     "output_type": "error",
     "traceback": [
      "\u001b[1;31m---------------------------------------------------------------------------\u001b[0m",
      "\u001b[1;31mRuntimeError\u001b[0m                              Traceback (most recent call last)",
      "\u001b[1;32m<ipython-input-19-d0fe7d306f83>\u001b[0m in \u001b[0;36m<module>\u001b[1;34m\u001b[0m\n\u001b[0;32m      2\u001b[0m     \u001b[0mprint\u001b[0m\u001b[1;33m(\u001b[0m\u001b[0mlabels\u001b[0m\u001b[1;33m)\u001b[0m\u001b[1;33m\u001b[0m\u001b[1;33m\u001b[0m\u001b[0m\n\u001b[0;32m      3\u001b[0m     \u001b[0mprint\u001b[0m\u001b[1;33m(\u001b[0m\u001b[0mimages\u001b[0m\u001b[1;33m.\u001b[0m\u001b[0mshape\u001b[0m\u001b[1;33m)\u001b[0m\u001b[1;33m\u001b[0m\u001b[1;33m\u001b[0m\u001b[0m\n\u001b[1;32m----> 4\u001b[1;33m     \u001b[0moutputs\u001b[0m \u001b[1;33m=\u001b[0m \u001b[0mmodel\u001b[0m\u001b[1;33m(\u001b[0m\u001b[0mimages\u001b[0m\u001b[1;33m)\u001b[0m\u001b[1;33m\u001b[0m\u001b[1;33m\u001b[0m\u001b[0m\n\u001b[0m\u001b[0;32m      5\u001b[0m     \u001b[0mprint\u001b[0m\u001b[1;33m(\u001b[0m\u001b[0moutputs\u001b[0m\u001b[1;33m)\u001b[0m\u001b[1;33m\u001b[0m\u001b[1;33m\u001b[0m\u001b[0m\n\u001b[0;32m      6\u001b[0m     \u001b[1;32mbreak\u001b[0m\u001b[1;33m\u001b[0m\u001b[1;33m\u001b[0m\u001b[0m\n",
      "\u001b[1;32m~\\.conda\\envs\\ocv\\lib\\site-packages\\torch\\nn\\modules\\module.py\u001b[0m in \u001b[0;36m_call_impl\u001b[1;34m(self, *input, **kwargs)\u001b[0m\n\u001b[0;32m    887\u001b[0m             \u001b[0mresult\u001b[0m \u001b[1;33m=\u001b[0m \u001b[0mself\u001b[0m\u001b[1;33m.\u001b[0m\u001b[0m_slow_forward\u001b[0m\u001b[1;33m(\u001b[0m\u001b[1;33m*\u001b[0m\u001b[0minput\u001b[0m\u001b[1;33m,\u001b[0m \u001b[1;33m**\u001b[0m\u001b[0mkwargs\u001b[0m\u001b[1;33m)\u001b[0m\u001b[1;33m\u001b[0m\u001b[1;33m\u001b[0m\u001b[0m\n\u001b[0;32m    888\u001b[0m         \u001b[1;32melse\u001b[0m\u001b[1;33m:\u001b[0m\u001b[1;33m\u001b[0m\u001b[1;33m\u001b[0m\u001b[0m\n\u001b[1;32m--> 889\u001b[1;33m             \u001b[0mresult\u001b[0m \u001b[1;33m=\u001b[0m \u001b[0mself\u001b[0m\u001b[1;33m.\u001b[0m\u001b[0mforward\u001b[0m\u001b[1;33m(\u001b[0m\u001b[1;33m*\u001b[0m\u001b[0minput\u001b[0m\u001b[1;33m,\u001b[0m \u001b[1;33m**\u001b[0m\u001b[0mkwargs\u001b[0m\u001b[1;33m)\u001b[0m\u001b[1;33m\u001b[0m\u001b[1;33m\u001b[0m\u001b[0m\n\u001b[0m\u001b[0;32m    890\u001b[0m         for hook in itertools.chain(\n\u001b[0;32m    891\u001b[0m                 \u001b[0m_global_forward_hooks\u001b[0m\u001b[1;33m.\u001b[0m\u001b[0mvalues\u001b[0m\u001b[1;33m(\u001b[0m\u001b[1;33m)\u001b[0m\u001b[1;33m,\u001b[0m\u001b[1;33m\u001b[0m\u001b[1;33m\u001b[0m\u001b[0m\n",
      "\u001b[1;32m~\\.conda\\envs\\ocv\\lib\\site-packages\\torch\\nn\\modules\\linear.py\u001b[0m in \u001b[0;36mforward\u001b[1;34m(self, input)\u001b[0m\n\u001b[0;32m     92\u001b[0m \u001b[1;33m\u001b[0m\u001b[0m\n\u001b[0;32m     93\u001b[0m     \u001b[1;32mdef\u001b[0m \u001b[0mforward\u001b[0m\u001b[1;33m(\u001b[0m\u001b[0mself\u001b[0m\u001b[1;33m,\u001b[0m \u001b[0minput\u001b[0m\u001b[1;33m:\u001b[0m \u001b[0mTensor\u001b[0m\u001b[1;33m)\u001b[0m \u001b[1;33m->\u001b[0m \u001b[0mTensor\u001b[0m\u001b[1;33m:\u001b[0m\u001b[1;33m\u001b[0m\u001b[1;33m\u001b[0m\u001b[0m\n\u001b[1;32m---> 94\u001b[1;33m         \u001b[1;32mreturn\u001b[0m \u001b[0mF\u001b[0m\u001b[1;33m.\u001b[0m\u001b[0mlinear\u001b[0m\u001b[1;33m(\u001b[0m\u001b[0minput\u001b[0m\u001b[1;33m,\u001b[0m \u001b[0mself\u001b[0m\u001b[1;33m.\u001b[0m\u001b[0mweight\u001b[0m\u001b[1;33m,\u001b[0m \u001b[0mself\u001b[0m\u001b[1;33m.\u001b[0m\u001b[0mbias\u001b[0m\u001b[1;33m)\u001b[0m\u001b[1;33m\u001b[0m\u001b[1;33m\u001b[0m\u001b[0m\n\u001b[0m\u001b[0;32m     95\u001b[0m \u001b[1;33m\u001b[0m\u001b[0m\n\u001b[0;32m     96\u001b[0m     \u001b[1;32mdef\u001b[0m \u001b[0mextra_repr\u001b[0m\u001b[1;33m(\u001b[0m\u001b[0mself\u001b[0m\u001b[1;33m)\u001b[0m \u001b[1;33m->\u001b[0m \u001b[0mstr\u001b[0m\u001b[1;33m:\u001b[0m\u001b[1;33m\u001b[0m\u001b[1;33m\u001b[0m\u001b[0m\n",
      "\u001b[1;32m~\\.conda\\envs\\ocv\\lib\\site-packages\\torch\\nn\\functional.py\u001b[0m in \u001b[0;36mlinear\u001b[1;34m(input, weight, bias)\u001b[0m\n\u001b[0;32m   1751\u001b[0m     \u001b[1;32mif\u001b[0m \u001b[0mhas_torch_function_variadic\u001b[0m\u001b[1;33m(\u001b[0m\u001b[0minput\u001b[0m\u001b[1;33m,\u001b[0m \u001b[0mweight\u001b[0m\u001b[1;33m)\u001b[0m\u001b[1;33m:\u001b[0m\u001b[1;33m\u001b[0m\u001b[1;33m\u001b[0m\u001b[0m\n\u001b[0;32m   1752\u001b[0m         \u001b[1;32mreturn\u001b[0m \u001b[0mhandle_torch_function\u001b[0m\u001b[1;33m(\u001b[0m\u001b[0mlinear\u001b[0m\u001b[1;33m,\u001b[0m \u001b[1;33m(\u001b[0m\u001b[0minput\u001b[0m\u001b[1;33m,\u001b[0m \u001b[0mweight\u001b[0m\u001b[1;33m)\u001b[0m\u001b[1;33m,\u001b[0m \u001b[0minput\u001b[0m\u001b[1;33m,\u001b[0m \u001b[0mweight\u001b[0m\u001b[1;33m,\u001b[0m \u001b[0mbias\u001b[0m\u001b[1;33m=\u001b[0m\u001b[0mbias\u001b[0m\u001b[1;33m)\u001b[0m\u001b[1;33m\u001b[0m\u001b[1;33m\u001b[0m\u001b[0m\n\u001b[1;32m-> 1753\u001b[1;33m     \u001b[1;32mreturn\u001b[0m \u001b[0mtorch\u001b[0m\u001b[1;33m.\u001b[0m\u001b[0m_C\u001b[0m\u001b[1;33m.\u001b[0m\u001b[0m_nn\u001b[0m\u001b[1;33m.\u001b[0m\u001b[0mlinear\u001b[0m\u001b[1;33m(\u001b[0m\u001b[0minput\u001b[0m\u001b[1;33m,\u001b[0m \u001b[0mweight\u001b[0m\u001b[1;33m,\u001b[0m \u001b[0mbias\u001b[0m\u001b[1;33m)\u001b[0m\u001b[1;33m\u001b[0m\u001b[1;33m\u001b[0m\u001b[0m\n\u001b[0m\u001b[0;32m   1754\u001b[0m \u001b[1;33m\u001b[0m\u001b[0m\n\u001b[0;32m   1755\u001b[0m \u001b[1;33m\u001b[0m\u001b[0m\n",
      "\u001b[1;31mRuntimeError\u001b[0m: mat1 and mat2 shapes cannot be multiplied (3584x28 and 784x10)"
     ]
    }
   ],
   "source": [
    "for images, labels in train_loader:\n",
    "    print(labels)\n",
    "    print(images.shape)\n",
    "    outputs = model(images)\n",
    "    print(outputs)\n",
    "    break"
   ]
  },
  {
   "cell_type": "code",
   "execution_count": 20,
   "id": "4e5c7590",
   "metadata": {
    "ExecuteTime": {
     "end_time": "2021-06-11T20:15:09.823039Z",
     "start_time": "2021-06-11T20:15:09.721415Z"
    }
   },
   "outputs": [
    {
     "data": {
      "text/plain": [
       "torch.Size([128, 1, 28, 28])"
      ]
     },
     "execution_count": 20,
     "metadata": {},
     "output_type": "execute_result"
    }
   ],
   "source": [
    "images.shape"
   ]
  },
  {
   "cell_type": "code",
   "execution_count": 21,
   "id": "b22f1983",
   "metadata": {
    "ExecuteTime": {
     "end_time": "2021-06-11T20:15:10.530700Z",
     "start_time": "2021-06-11T20:15:10.524705Z"
    }
   },
   "outputs": [
    {
     "data": {
      "text/plain": [
       "torch.Size([128, 784])"
      ]
     },
     "execution_count": 21,
     "metadata": {},
     "output_type": "execute_result"
    }
   ],
   "source": [
    "images.reshape(128, 784).shape"
   ]
  },
  {
   "cell_type": "markdown",
   "id": "58b501c4",
   "metadata": {},
   "source": [
    "The code above leads to an error because our input data does not have the right shape. Our images are of the shape 1x28x28, but we need them to be vectors of size 784, i.e., we need to flatten them. We'll use the `.reshape` method of a tensor, which will allow us to efficiently 'view' each image as a flat vector without really creating a copy of the underlying data. To include this additional functionality within our model, we need to define a custom model by extending the `nn.Module` class from PyTorch.\n",
    "\n",
    "A class in Python provides a \"blueprint\" for creating objects. Let's look at an example of defining a new class in Python."
   ]
  },
  {
   "cell_type": "code",
   "execution_count": 22,
   "id": "1f851558",
   "metadata": {
    "ExecuteTime": {
     "end_time": "2021-06-11T20:15:12.836724Z",
     "start_time": "2021-06-11T20:15:12.831745Z"
    }
   },
   "outputs": [],
   "source": [
    "class Person:\n",
    "    # Class constructor\n",
    "    def __init__(self, name, age):\n",
    "        # Object properties\n",
    "        self.name = name\n",
    "        self.age = age\n",
    "    \n",
    "    # Method\n",
    "    def say_hello(self):\n",
    "        print(\"Hello my name is \" + self.name + \"!\")"
   ]
  },
  {
   "cell_type": "markdown",
   "id": "91692f5e",
   "metadata": {},
   "source": [
    "Here's how we create or instantiate an object of the class Person."
   ]
  },
  {
   "cell_type": "code",
   "execution_count": 23,
   "id": "ffeca489",
   "metadata": {
    "ExecuteTime": {
     "end_time": "2021-06-11T20:15:16.027663Z",
     "start_time": "2021-06-11T20:15:16.024665Z"
    }
   },
   "outputs": [],
   "source": [
    "bob=Person('Bob', 31)"
   ]
  },
  {
   "cell_type": "markdown",
   "id": "5c4eb16c",
   "metadata": {},
   "source": [
    "The object `bob` is an instance of the class `Person`.\n",
    "\n",
    "We can access the object's properties (also called attributes) or invoke its methods using the . notation."
   ]
  },
  {
   "cell_type": "code",
   "execution_count": 24,
   "id": "63faec2b",
   "metadata": {
    "ExecuteTime": {
     "end_time": "2021-06-11T20:15:18.169675Z",
     "start_time": "2021-06-11T20:15:18.162698Z"
    }
   },
   "outputs": [
    {
     "data": {
      "text/plain": [
       "('Bob', 31)"
      ]
     },
     "execution_count": 24,
     "metadata": {},
     "output_type": "execute_result"
    }
   ],
   "source": [
    "bob.name, bob.age"
   ]
  },
  {
   "cell_type": "code",
   "execution_count": 25,
   "id": "d82c9ae7",
   "metadata": {
    "ExecuteTime": {
     "end_time": "2021-06-11T20:15:19.849750Z",
     "start_time": "2021-06-11T20:15:19.844753Z"
    }
   },
   "outputs": [
    {
     "name": "stdout",
     "output_type": "stream",
     "text": [
      "Hello my name is Bob!\n"
     ]
    }
   ],
   "source": [
    "bob.say_hello()"
   ]
  },
  {
   "cell_type": "markdown",
   "id": "48159b97",
   "metadata": {},
   "source": [
    "You can learn more about Python classes here: https://www.w3schools.com/python/python_classes.asp .\n",
    "\n",
    "Classes can also build upon or extend the functionality of existing classes. Let's extend the `nn.Module` class from PyTorch to define a custom model."
   ]
  },
  {
   "cell_type": "code",
   "execution_count": 26,
   "id": "10125b41",
   "metadata": {
    "ExecuteTime": {
     "end_time": "2021-06-11T20:15:21.678622Z",
     "start_time": "2021-06-11T20:15:21.670628Z"
    }
   },
   "outputs": [],
   "source": [
    "class MnistModel(nn.Module):\n",
    "    # Class constructor\n",
    "    def __init__(self):\n",
    "        super().__init__()\n",
    "        self.linear=nn.Linear(input_size, num_classes)\n",
    "        \n",
    "    # Method\n",
    "    def forward(self,xb):\n",
    "        xb=xb.reshape(-1, 784)\n",
    "        out = self.linear(xb)\n",
    "        return\n",
    "model=MnistModel()"
   ]
  },
  {
   "cell_type": "markdown",
   "id": "6faf9d1f",
   "metadata": {},
   "source": [
    "Inside the `__init__ `constructor method, we instantiate the weights and biases using nn.Linear. And inside the forward method, which is invoked when we pass a batch of inputs to the model, we flatten the input tensor and pass it into `self.linear`.\n",
    "\n",
    "`xb.reshape(-1, 28*28)` indicates to PyTorch that we want a view of the xb tensor with two dimensions. The length along the 2nd dimension is 28*28 (i.e., 784). One argument to `.reshape` can be set to -1 (in this case, the first dimension) to let PyTorch figure it out automatically based on the shape of the original tensor.\n",
    "\n",
    "Note that the model no longer has `.weight` and `.bias` attributes (as they are now inside the `.linear` attribute), but it does have a `.parameters` method that returns a list containing the weights and bias."
   ]
  },
  {
   "cell_type": "code",
   "execution_count": 27,
   "id": "63d6de8b",
   "metadata": {
    "ExecuteTime": {
     "end_time": "2021-06-11T20:15:24.152482Z",
     "start_time": "2021-06-11T20:15:24.146485Z"
    }
   },
   "outputs": [
    {
     "data": {
      "text/plain": [
       "Linear(in_features=784, out_features=10, bias=True)"
      ]
     },
     "execution_count": 27,
     "metadata": {},
     "output_type": "execute_result"
    }
   ],
   "source": [
    "model.linear"
   ]
  },
  {
   "cell_type": "code",
   "execution_count": 28,
   "id": "4a60f3e1",
   "metadata": {
    "ExecuteTime": {
     "end_time": "2021-06-11T20:15:25.294654Z",
     "start_time": "2021-06-11T20:15:25.284678Z"
    }
   },
   "outputs": [
    {
     "name": "stdout",
     "output_type": "stream",
     "text": [
      "torch.Size([10, 784]) torch.Size([10])\n"
     ]
    },
    {
     "data": {
      "text/plain": [
       "[Parameter containing:\n",
       " tensor([[-0.0344,  0.0001, -0.0254,  ..., -0.0302,  0.0037, -0.0134],\n",
       "         [ 0.0309,  0.0224, -0.0027,  ...,  0.0341,  0.0040,  0.0238],\n",
       "         [-0.0168,  0.0034,  0.0063,  ...,  0.0312, -0.0013, -0.0087],\n",
       "         ...,\n",
       "         [-0.0293,  0.0334,  0.0305,  ..., -0.0039,  0.0003,  0.0192],\n",
       "         [-0.0200,  0.0288,  0.0084,  ..., -0.0192,  0.0317,  0.0095],\n",
       "         [ 0.0307,  0.0035,  0.0017,  ..., -0.0002,  0.0294,  0.0317]],\n",
       "        requires_grad=True),\n",
       " Parameter containing:\n",
       " tensor([ 0.0246,  0.0090,  0.0001, -0.0070,  0.0315,  0.0090,  0.0349, -0.0242,\n",
       "          0.0077, -0.0060], requires_grad=True)]"
      ]
     },
     "execution_count": 28,
     "metadata": {},
     "output_type": "execute_result"
    }
   ],
   "source": [
    "print(model.linear.weight.shape, model.linear.bias.shape)\n",
    "list(model.parameters())"
   ]
  },
  {
   "cell_type": "markdown",
   "id": "b135a911",
   "metadata": {},
   "source": [
    "We can use our new custom model in the same way as before. Let's see if it works."
   ]
  },
  {
   "cell_type": "code",
   "execution_count": 29,
   "id": "340ee9f5",
   "metadata": {
    "ExecuteTime": {
     "end_time": "2021-06-11T20:15:28.939778Z",
     "start_time": "2021-06-11T20:15:28.472633Z"
    }
   },
   "outputs": [
    {
     "name": "stdout",
     "output_type": "stream",
     "text": [
      "torch.Size([128, 1, 28, 28])\n"
     ]
    },
    {
     "ename": "AttributeError",
     "evalue": "'NoneType' object has no attribute 'shape'",
     "output_type": "error",
     "traceback": [
      "\u001b[1;31m---------------------------------------------------------------------------\u001b[0m",
      "\u001b[1;31mAttributeError\u001b[0m                            Traceback (most recent call last)",
      "\u001b[1;32m<ipython-input-29-afdff895f6b1>\u001b[0m in \u001b[0;36m<module>\u001b[1;34m\u001b[0m\n\u001b[0;32m      4\u001b[0m     \u001b[1;32mbreak\u001b[0m\u001b[1;33m\u001b[0m\u001b[1;33m\u001b[0m\u001b[0m\n\u001b[0;32m      5\u001b[0m \u001b[1;33m\u001b[0m\u001b[0m\n\u001b[1;32m----> 6\u001b[1;33m \u001b[0mprint\u001b[0m\u001b[1;33m(\u001b[0m\u001b[1;34m'outputs.shape : '\u001b[0m\u001b[1;33m,\u001b[0m \u001b[0moutputs\u001b[0m\u001b[1;33m.\u001b[0m\u001b[0mshape\u001b[0m\u001b[1;33m)\u001b[0m\u001b[1;33m\u001b[0m\u001b[1;33m\u001b[0m\u001b[0m\n\u001b[0m\u001b[0;32m      7\u001b[0m \u001b[0mprint\u001b[0m\u001b[1;33m(\u001b[0m\u001b[1;34m'Sample outputs :\\n'\u001b[0m\u001b[1;33m,\u001b[0m \u001b[0moutputs\u001b[0m\u001b[1;33m[\u001b[0m\u001b[1;33m:\u001b[0m\u001b[1;36m2\u001b[0m\u001b[1;33m]\u001b[0m\u001b[1;33m.\u001b[0m\u001b[0mdata\u001b[0m\u001b[1;33m)\u001b[0m\u001b[1;33m\u001b[0m\u001b[1;33m\u001b[0m\u001b[0m\n",
      "\u001b[1;31mAttributeError\u001b[0m: 'NoneType' object has no attribute 'shape'"
     ]
    }
   ],
   "source": [
    "for images, labels in train_loader:\n",
    "    print(images.shape)\n",
    "    outputs = model(images)\n",
    "    break\n",
    "\n",
    "print('outputs.shape : ', outputs.shape)\n",
    "print('Sample outputs :\\n', outputs[:2].data)"
   ]
  },
  {
   "cell_type": "markdown",
   "id": "8dfbee13",
   "metadata": {},
   "source": [
    "Inside the `__init__` constructor method, we instantiate the weights and biases using `nn.Linear`. And inside the `forward` method, which is invoked when we pass a batch of inputs to the model, we flatten the input tensor and pass it into `self.linear`.\n",
    "\n",
    "`xb.reshape(-1, 28*28)` indicates to PyTorch that we want a view of the `xb` tensor with two dimensions. The length along the 2nd dimension is 28*28 (i.e., 784). One argument to `.reshape` can be set to -1 (in this case, the first dimension) to let PyTorch figure it out automatically based on the shape of the original tensor.\n",
    "\n",
    "Note that the model no longer has `.weight` and `.bias` attributes (as they are now inside the `.linear` attribute), but it does have a `.parameters` method that returns a list containing the weights and bias."
   ]
  },
  {
   "cell_type": "code",
   "execution_count": 30,
   "id": "e5af4343",
   "metadata": {
    "ExecuteTime": {
     "end_time": "2021-06-11T20:15:31.443021Z",
     "start_time": "2021-06-11T20:15:31.436024Z"
    }
   },
   "outputs": [],
   "source": [
    "class MnistModel(nn.Module):\n",
    "    def __init__(self):\n",
    "        super().__init__()\n",
    "        self.linear = nn.Linear(input_size, num_classes)\n",
    "        \n",
    "    def forward(self, xb):\n",
    "        xb = xb.reshape(-1, 784)\n",
    "        out = self.linear(xb)\n",
    "        return out\n",
    "    \n",
    "model = MnistModel()"
   ]
  },
  {
   "cell_type": "code",
   "execution_count": 31,
   "id": "25814fb8",
   "metadata": {
    "ExecuteTime": {
     "end_time": "2021-06-11T20:15:33.783586Z",
     "start_time": "2021-06-11T20:15:33.776610Z"
    }
   },
   "outputs": [
    {
     "data": {
      "text/plain": [
       "Linear(in_features=784, out_features=10, bias=True)"
      ]
     },
     "execution_count": 31,
     "metadata": {},
     "output_type": "execute_result"
    }
   ],
   "source": [
    "model.linear"
   ]
  },
  {
   "cell_type": "code",
   "execution_count": 32,
   "id": "2d1d1727",
   "metadata": {
    "ExecuteTime": {
     "end_time": "2021-06-11T20:15:34.262057Z",
     "start_time": "2021-06-11T20:15:34.250061Z"
    }
   },
   "outputs": [
    {
     "name": "stdout",
     "output_type": "stream",
     "text": [
      "torch.Size([10, 784]) torch.Size([10])\n"
     ]
    },
    {
     "data": {
      "text/plain": [
       "[Parameter containing:\n",
       " tensor([[ 0.0101,  0.0105, -0.0201,  ...,  0.0161, -0.0266,  0.0298],\n",
       "         [ 0.0220, -0.0237, -0.0299,  ..., -0.0005, -0.0097, -0.0288],\n",
       "         [-0.0235, -0.0127,  0.0043,  ...,  0.0340,  0.0061, -0.0232],\n",
       "         ...,\n",
       "         [ 0.0100,  0.0102, -0.0349,  ..., -0.0255, -0.0034, -0.0354],\n",
       "         [-0.0328,  0.0152,  0.0351,  ..., -0.0182,  0.0131, -0.0143],\n",
       "         [ 0.0350,  0.0031,  0.0213,  ...,  0.0076,  0.0196,  0.0026]],\n",
       "        requires_grad=True),\n",
       " Parameter containing:\n",
       " tensor([-0.0048,  0.0191,  0.0219,  0.0344, -0.0228,  0.0046,  0.0065,  0.0052,\n",
       "          0.0005,  0.0340], requires_grad=True)]"
      ]
     },
     "execution_count": 32,
     "metadata": {},
     "output_type": "execute_result"
    }
   ],
   "source": [
    "print(model.linear.weight.shape, model.linear.bias.shape)\n",
    "list(model.parameters())"
   ]
  },
  {
   "cell_type": "markdown",
   "id": "712702bc",
   "metadata": {},
   "source": [
    "We can use our new custom model in the same way as before. Let's see if it works.\n",
    "\n"
   ]
  },
  {
   "cell_type": "code",
   "execution_count": 33,
   "id": "006b30a3",
   "metadata": {
    "ExecuteTime": {
     "end_time": "2021-06-11T20:15:36.986528Z",
     "start_time": "2021-06-11T20:15:36.937559Z"
    }
   },
   "outputs": [
    {
     "name": "stdout",
     "output_type": "stream",
     "text": [
      "torch.Size([128, 1, 28, 28])\n",
      "outputs.shape :  torch.Size([128, 10])\n",
      "Sample outputs :\n",
      " tensor([[-0.2103,  0.1084,  0.5741, -0.0179,  0.1170,  0.5944, -0.0317, -0.2059,\n",
      "          0.1995,  0.0415],\n",
      "        [-0.2417,  0.1361,  0.2807, -0.1408,  0.0431,  0.4734,  0.0786, -0.0133,\n",
      "          0.2457, -0.0977]])\n"
     ]
    }
   ],
   "source": [
    "for images, labels in train_loader:\n",
    "    print(images.shape)\n",
    "    outputs = model(images)\n",
    "    break\n",
    "\n",
    "print('outputs.shape : ', outputs.shape)\n",
    "print('Sample outputs :\\n', outputs[:2].data)"
   ]
  },
  {
   "cell_type": "markdown",
   "id": "0936862e",
   "metadata": {},
   "source": [
    "For each of the 100 input images, we get 10 outputs, one for each class. As discussed earlier, we'd like these outputs to represent probabilities. Each output row's elements must lie between 0 to 1 and add up to 1, which is not the case.\n",
    "\n",
    "To convert the output rows into probabilities, we use the softmax function, which has the following formula:\n",
    "\n",
    "<img src=\"files/softmax.png\">\n",
    "\n",
    "First, we replace each element `yi` in an output row by `e^yi`, making all the elements positive.\n",
    "\n",
    "<img src=\"files/graph1.png\">\n",
    "\n",
    "Then, we divide them by their sum to ensure that they add up to 1. The resulting vector can thus be interpreted as probabilities.\n",
    "\n",
    "While it's easy to implement the softmax function (you should try it!), we'll use the implementation that's provided within PyTorch because it works well with multidimensional tensors (a list of output rows in our case)."
   ]
  },
  {
   "cell_type": "code",
   "execution_count": 34,
   "id": "485f6d9f",
   "metadata": {
    "ExecuteTime": {
     "end_time": "2021-06-11T20:15:39.986426Z",
     "start_time": "2021-06-11T20:15:39.983428Z"
    }
   },
   "outputs": [],
   "source": [
    "import torch.nn.functional as F"
   ]
  },
  {
   "cell_type": "markdown",
   "id": "2d3f0e44",
   "metadata": {},
   "source": [
    "The softmax function is included in the `torch.nn.functional` package and requires us to specify a dimension along which the function should be applied."
   ]
  },
  {
   "cell_type": "code",
   "execution_count": 35,
   "id": "4afd2069",
   "metadata": {
    "ExecuteTime": {
     "end_time": "2021-06-11T20:15:41.837770Z",
     "start_time": "2021-06-11T20:15:41.750690Z"
    }
   },
   "outputs": [
    {
     "data": {
      "text/plain": [
       "tensor([[-0.2103,  0.1084,  0.5741, -0.0179,  0.1170,  0.5944, -0.0317, -0.2059,\n",
       "          0.1995,  0.0415],\n",
       "        [-0.2417,  0.1361,  0.2807, -0.1408,  0.0431,  0.4734,  0.0786, -0.0133,\n",
       "          0.2457, -0.0977]], grad_fn=<SliceBackward>)"
      ]
     },
     "execution_count": 35,
     "metadata": {},
     "output_type": "execute_result"
    }
   ],
   "source": [
    "outputs [:2]"
   ]
  },
  {
   "cell_type": "code",
   "execution_count": 36,
   "id": "ebd0793c",
   "metadata": {
    "ExecuteTime": {
     "end_time": "2021-06-11T20:15:43.828609Z",
     "start_time": "2021-06-11T20:15:43.456572Z"
    }
   },
   "outputs": [
    {
     "name": "stdout",
     "output_type": "stream",
     "text": [
      "Sample probabilities:\n",
      " tensor([[0.0695, 0.0955, 0.1522, 0.0842, 0.0964, 0.1553, 0.0831, 0.0698, 0.1047,\n",
      "         0.0894],\n",
      "        [0.0712, 0.1039, 0.1201, 0.0788, 0.0947, 0.1456, 0.0981, 0.0895, 0.1159,\n",
      "         0.0822]])\n",
      "Sum:  1.0\n"
     ]
    }
   ],
   "source": [
    "# Apply softmax for each output row\n",
    "prob=F.softmax(outputs,dim=1)\n",
    "\n",
    "# Look at sample probabilities\n",
    "print(\"Sample probabilities:\\n\", prob[:2].data)\n",
    "\n",
    "# Add up the probabilities of an output row\n",
    "print(\"Sum: \", torch.sum(prob[0]).item())"
   ]
  },
  {
   "cell_type": "markdown",
   "id": "a24eb2ce",
   "metadata": {},
   "source": [
    "Finally, we can determine the predicted label for each image by simply choosing the index of the element with the highest probability in each output row. We can do this using `torch.max`, which returns each row's largest element and the corresponding index."
   ]
  },
  {
   "cell_type": "code",
   "execution_count": 37,
   "id": "b510c24d",
   "metadata": {
    "ExecuteTime": {
     "end_time": "2021-06-11T20:15:46.077067Z",
     "start_time": "2021-06-11T20:15:45.698528Z"
    }
   },
   "outputs": [
    {
     "name": "stdout",
     "output_type": "stream",
     "text": [
      "tensor([5, 5, 5, 5, 5, 5, 5, 1, 5, 5, 3, 5, 2, 5, 2, 2, 5, 5, 5, 5, 5, 5, 5, 5,\n",
      "        5, 2, 5, 1, 2, 2, 5, 5, 5, 5, 5, 5, 5, 2, 2, 5, 5, 2, 2, 5, 5, 3, 4, 5,\n",
      "        5, 5, 5, 5, 2, 2, 5, 2, 2, 1, 2, 5, 5, 2, 5, 5, 5, 5, 5, 5, 5, 5, 2, 5,\n",
      "        2, 2, 5, 5, 5, 4, 2, 5, 3, 2, 5, 2, 5, 2, 5, 5, 3, 1, 5, 5, 8, 2, 2, 5,\n",
      "        5, 2, 2, 1, 2, 2, 2, 5, 5, 1, 2, 5, 3, 1, 5, 5, 2, 2, 5, 2, 8, 2, 5, 2,\n",
      "        2, 5, 5, 5, 5, 2, 2, 5])\n",
      "tensor([0.1553, 0.1456, 0.1708, 0.1520, 0.1456, 0.1348, 0.1527, 0.1484, 0.1522,\n",
      "        0.1440, 0.1228, 0.1735, 0.1299, 0.1746, 0.1330, 0.1415, 0.1487, 0.1301,\n",
      "        0.1727, 0.1690, 0.1346, 0.1140, 0.1724, 0.1477, 0.1486, 0.1363, 0.1339,\n",
      "        0.1467, 0.1331, 0.1402, 0.1585, 0.1538, 0.1379, 0.1195, 0.1684, 0.1501,\n",
      "        0.1470, 0.1617, 0.1233, 0.1199, 0.1371, 0.1513, 0.1294, 0.1572, 0.1524,\n",
      "        0.1321, 0.1241, 0.1254, 0.1324, 0.1722, 0.1271, 0.1717, 0.1335, 0.1545,\n",
      "        0.1178, 0.1387, 0.1735, 0.1325, 0.1219, 0.2225, 0.1279, 0.1221, 0.1582,\n",
      "        0.1584, 0.1309, 0.1379, 0.1489, 0.1426, 0.1439, 0.1412, 0.1382, 0.1408,\n",
      "        0.1428, 0.1877, 0.1738, 0.1208, 0.1722, 0.1271, 0.1483, 0.1480, 0.1487,\n",
      "        0.1429, 0.1676, 0.1362, 0.1286, 0.1494, 0.1271, 0.1555, 0.1192, 0.1303,\n",
      "        0.1526, 0.1439, 0.1325, 0.1376, 0.1416, 0.1363, 0.1328, 0.1297, 0.1416,\n",
      "        0.1455, 0.1634, 0.1353, 0.1445, 0.1463, 0.1276, 0.1325, 0.1295, 0.1474,\n",
      "        0.1276, 0.1402, 0.1303, 0.1616, 0.1274, 0.1168, 0.1580, 0.1258, 0.1155,\n",
      "        0.1325, 0.1701, 0.1439, 0.1344, 0.1391, 0.1319, 0.1363, 0.1505, 0.1551,\n",
      "        0.1492, 0.1289], grad_fn=<MaxBackward0>)\n"
     ]
    }
   ],
   "source": [
    "max_probs, preds = torch.max(prob, dim=1)\n",
    "print(preds)\n",
    "print(max_probs)"
   ]
  },
  {
   "cell_type": "markdown",
   "id": "e3467e41",
   "metadata": {},
   "source": [
    "The numbers printed above are the predicted labels for the first batch of training images. Let's compare them with the actual labels.\n",
    "\n"
   ]
  },
  {
   "cell_type": "code",
   "execution_count": 38,
   "id": "ccec4d9d",
   "metadata": {
    "ExecuteTime": {
     "end_time": "2021-06-11T20:15:49.051574Z",
     "start_time": "2021-06-11T20:15:49.045579Z"
    }
   },
   "outputs": [
    {
     "data": {
      "text/plain": [
       "tensor([2, 6, 7, 6, 9, 1, 8, 0, 2, 4, 5, 0, 5, 7, 5, 4, 2, 1, 7, 0, 1, 1, 8, 1,\n",
       "        2, 0, 2, 5, 6, 6, 7, 8, 4, 1, 8, 7, 5, 8, 4, 1, 4, 5, 0, 2, 1, 2, 1, 1,\n",
       "        1, 8, 1, 7, 2, 4, 7, 6, 8, 6, 3, 7, 5, 6, 3, 8, 9, 2, 7, 4, 6, 0, 6, 1,\n",
       "        2, 0, 8, 0, 7, 1, 8, 4, 3, 3, 6, 0, 2, 3, 7, 9, 3, 0, 4, 6, 8, 5, 3, 6,\n",
       "        6, 4, 5, 4, 3, 2, 8, 0, 1, 8, 1, 7, 3, 0, 3, 3, 0, 4, 7, 2, 3, 0, 9, 4,\n",
       "        1, 4, 1, 4, 0, 6, 5, 1])"
      ]
     },
     "execution_count": 38,
     "metadata": {},
     "output_type": "execute_result"
    }
   ],
   "source": [
    "labels"
   ]
  },
  {
   "cell_type": "markdown",
   "id": "bc0f29d0",
   "metadata": {},
   "source": [
    "Most of the predicted labels are different from the actual labels. That's because we have started with randomly initialized weights and biases. We need to train the model, i.e., adjust the weights using gradient descent to make better predictions.\n",
    "\n"
   ]
  },
  {
   "cell_type": "markdown",
   "id": "8b13202a",
   "metadata": {},
   "source": [
    "## Evaluation Metric and Loss Function\n",
    "Just as with linear regression, we need a way to evaluate how well our model is performing. A natural way to do this would be to find the percentage of labels that were predicted correctly, i.e,. the accuracy of the predictions."
   ]
  },
  {
   "cell_type": "code",
   "execution_count": 44,
   "id": "efef3f9f",
   "metadata": {
    "ExecuteTime": {
     "end_time": "2021-06-11T20:16:05.028092Z",
     "start_time": "2021-06-11T20:16:05.021096Z"
    },
    "scrolled": true
   },
   "outputs": [
    {
     "data": {
      "text/plain": [
       "tensor([[-0.2103,  0.1084,  0.5741, -0.0179,  0.1170,  0.5944, -0.0317, -0.2059,\n",
       "          0.1995,  0.0415],\n",
       "        [-0.2417,  0.1361,  0.2807, -0.1408,  0.0431,  0.4734,  0.0786, -0.0133,\n",
       "          0.2457, -0.0977]], grad_fn=<SliceBackward>)"
      ]
     },
     "execution_count": 44,
     "metadata": {},
     "output_type": "execute_result"
    }
   ],
   "source": [
    "outputs[:2]"
   ]
  },
  {
   "cell_type": "code",
   "execution_count": 42,
   "id": "ef03c66b",
   "metadata": {
    "ExecuteTime": {
     "end_time": "2021-06-11T20:16:01.383519Z",
     "start_time": "2021-06-11T20:16:01.375525Z"
    }
   },
   "outputs": [
    {
     "data": {
      "text/plain": [
       "tensor(10)"
      ]
     },
     "execution_count": 42,
     "metadata": {},
     "output_type": "execute_result"
    }
   ],
   "source": [
    "torch.sum(preds == labels)"
   ]
  },
  {
   "cell_type": "code",
   "execution_count": 43,
   "id": "1f7de21a",
   "metadata": {
    "ExecuteTime": {
     "end_time": "2021-06-11T20:16:02.094478Z",
     "start_time": "2021-06-11T20:16:02.089499Z"
    }
   },
   "outputs": [],
   "source": [
    "def accuracy(outputs, labels):\n",
    "    _, preds = torch.max(outputs, dim=1)\n",
    "    return torch.tensor(torch.sum(preds == labels).item() / len(preds))"
   ]
  },
  {
   "cell_type": "markdown",
   "id": "4d635723",
   "metadata": {},
   "source": [
    "The `==` operator performs an element-wise comparison of two tensors with the same shape and returns a tensor of the same shape, containing `True` for unequal elements and `False` for equal elements. Passing the result to torch.sum returns the number of labels that were predicted correctly. Finally, we divide by the total number of images to get the accuracy.\n",
    "\n",
    "Note that we don't need to apply softmax to the outputs since its results have the same relative order. This is because e^x is an increasing function, i.e., if `y1 > y2`, then `e^y1 > e^y2`. The same holds after averaging out the values to get the softmax.\n",
    "\n",
    "Let's calculate the accuracy of the current model on the first batch of data."
   ]
  },
  {
   "cell_type": "code",
   "execution_count": 41,
   "id": "e884319a",
   "metadata": {
    "ExecuteTime": {
     "end_time": "2021-06-11T20:15:55.723773Z",
     "start_time": "2021-06-11T20:15:55.615565Z"
    }
   },
   "outputs": [
    {
     "ename": "NameError",
     "evalue": "name 'accuracy' is not defined",
     "output_type": "error",
     "traceback": [
      "\u001b[1;31m---------------------------------------------------------------------------\u001b[0m",
      "\u001b[1;31mNameError\u001b[0m                                 Traceback (most recent call last)",
      "\u001b[1;32m<ipython-input-41-56935a2372e1>\u001b[0m in \u001b[0;36m<module>\u001b[1;34m\u001b[0m\n\u001b[1;32m----> 1\u001b[1;33m \u001b[0maccuracy\u001b[0m\u001b[1;33m(\u001b[0m\u001b[0moutputs\u001b[0m\u001b[1;33m,\u001b[0m \u001b[0mlabels\u001b[0m\u001b[1;33m)\u001b[0m\u001b[1;33m\u001b[0m\u001b[1;33m\u001b[0m\u001b[0m\n\u001b[0m",
      "\u001b[1;31mNameError\u001b[0m: name 'accuracy' is not defined"
     ]
    }
   ],
   "source": [
    "accuracy(outputs, labels)"
   ]
  },
  {
   "cell_type": "code",
   "execution_count": 45,
   "id": "788b9350",
   "metadata": {
    "ExecuteTime": {
     "end_time": "2021-06-11T20:16:08.851477Z",
     "start_time": "2021-06-11T20:16:08.802506Z"
    }
   },
   "outputs": [
    {
     "data": {
      "text/plain": [
       "tensor([[0.0695, 0.0955, 0.1522,  ..., 0.0698, 0.1047, 0.0894],\n",
       "        [0.0712, 0.1039, 0.1201,  ..., 0.0895, 0.1159, 0.0822],\n",
       "        [0.0911, 0.1027, 0.1232,  ..., 0.0896, 0.0808, 0.0857],\n",
       "        ...,\n",
       "        [0.0700, 0.1331, 0.1551,  ..., 0.0759, 0.0814, 0.0814],\n",
       "        [0.0771, 0.1143, 0.1492,  ..., 0.0785, 0.0752, 0.0887],\n",
       "        [0.0685, 0.0894, 0.1249,  ..., 0.1049, 0.0892, 0.0862]],\n",
       "       grad_fn=<SoftmaxBackward>)"
      ]
     },
     "execution_count": 45,
     "metadata": {},
     "output_type": "execute_result"
    }
   ],
   "source": [
    "prob"
   ]
  },
  {
   "cell_type": "markdown",
   "id": "38ca7ba0",
   "metadata": {},
   "source": [
    "Unlike accuracy, cross-entropy is a continuous and differentiable function. It also provides useful feedback for incremental improvements in the model (a slightly higher probability for the correct label leads to a lower loss). These two factors make cross-entropy a better choice for the loss function.\n",
    "\n",
    "As you might expect, PyTorch provides an efficient and tensor-friendly implementation of cross-entropy as part of the torch.nn.functional package. Moreover, it also performs softmax internally, so we can directly pass in the model's outputs without converting them into probabilities."
   ]
  },
  {
   "cell_type": "code",
   "execution_count": 46,
   "id": "3327c662",
   "metadata": {
    "ExecuteTime": {
     "end_time": "2021-06-11T20:16:11.236605Z",
     "start_time": "2021-06-11T20:16:11.229606Z"
    }
   },
   "outputs": [
    {
     "data": {
      "text/plain": [
       "tensor([[-0.2103,  0.1084,  0.5741,  ..., -0.2059,  0.1995,  0.0415],\n",
       "        [-0.2417,  0.1361,  0.2807,  ..., -0.0133,  0.2457, -0.0977],\n",
       "        [-0.0235,  0.0960,  0.2780,  ..., -0.0402, -0.1430, -0.0851],\n",
       "        ...,\n",
       "        [-0.1587,  0.4846,  0.6374,  ..., -0.0769, -0.0077, -0.0075],\n",
       "        [-0.1714,  0.2228,  0.4888,  ..., -0.1538, -0.1960, -0.0315],\n",
       "        [-0.2526,  0.0143,  0.3489,  ...,  0.1741,  0.0121, -0.0226]],\n",
       "       grad_fn=<AddmmBackward>)"
      ]
     },
     "execution_count": 46,
     "metadata": {},
     "output_type": "execute_result"
    }
   ],
   "source": [
    "outputs"
   ]
  },
  {
   "cell_type": "code",
   "execution_count": 47,
   "id": "f1b53ca3",
   "metadata": {
    "ExecuteTime": {
     "end_time": "2021-06-11T20:16:13.802641Z",
     "start_time": "2021-06-11T20:16:13.747741Z"
    }
   },
   "outputs": [],
   "source": [
    "loss_fn = F.cross_entropy"
   ]
  },
  {
   "cell_type": "code",
   "execution_count": 48,
   "id": "5eb0acac",
   "metadata": {
    "ExecuteTime": {
     "end_time": "2021-06-11T20:16:14.619606Z",
     "start_time": "2021-06-11T20:16:14.384392Z"
    }
   },
   "outputs": [
    {
     "name": "stdout",
     "output_type": "stream",
     "text": [
      "tensor(2.3242, grad_fn=<NllLossBackward>)\n"
     ]
    }
   ],
   "source": [
    "# Loss for current batch of data\n",
    "loss=loss_fn(outputs,labels)\n",
    "print (loss)"
   ]
  },
  {
   "cell_type": "markdown",
   "id": "cd2476de",
   "metadata": {},
   "source": [
    "We know that cross-entropy is the negative logarithm of the predicted probability of the correct label averaged over all training samples. Therefore, one way to interpret the resulting number e.g. 2.23 is look at e^-2.23 which is around 0.1 as the predicted probability of the correct label, on average. The lower the loss, The better the model."
   ]
  },
  {
   "cell_type": "markdown",
   "id": "6563613b",
   "metadata": {},
   "source": [
    "## Training the model\n",
    "\n",
    "Now that we have defined the data loaders, model, loss function and optimizer, we are ready to train the model. The training process is identical to linear regression, with the addition of a \"validation phase\" to evaluate the model in each epoch. Here's what it looks like in pseudocode:\n",
    "\n",
    "for epoch in range(num_epochs):\n",
    "\n",
    "    # Training phase\n",
    "    for batch in train_loader:\n",
    "        # Generate predictions\n",
    "        # Calculate loss\n",
    "        # Compute gradients\n",
    "        # Update weights\n",
    "        # Reset gradients\n",
    "    \n",
    "    # Validation phase\n",
    "    for batch in val_loader:\n",
    "        # Generate predictions\n",
    "        # Calculate loss\n",
    "        # Calculate metrics (accuracy etc.)\n",
    "    # Calculate average validation loss & metrics\n",
    "    \n",
    "    # Log epoch, loss & metrics for inspection\n",
    "Some parts of the training loop are specific the specific problem we're solving (e.g. loss function, metrics etc.) whereas others are generic and can be applied to any deep learning problem.\n",
    "\n",
    "We'll include the problem-independent parts within a function called `fit`, which will be used to train the model. The problem-specific parts will be implemented by adding new methods to the `nn.Module class`."
   ]
  },
  {
   "cell_type": "code",
   "execution_count": 49,
   "id": "1bc045ed",
   "metadata": {
    "ExecuteTime": {
     "end_time": "2021-06-11T20:16:17.928457Z",
     "start_time": "2021-06-11T20:16:17.920483Z"
    }
   },
   "outputs": [],
   "source": [
    "def fit(epochs, lr, model, train_loader, val_loader, opt_func=torch.optim.SGD):\n",
    "    optimizer = opt_func(model.parameters(), lr)\n",
    "    history = [] # for recording epoch-wise results\n",
    "    \n",
    "    for epoch in range(epochs):\n",
    "        \n",
    "        # Training Phase \n",
    "        for batch in train_loader:\n",
    "            loss = model.training_step(batch)\n",
    "            loss.backward()\n",
    "            optimizer.step()\n",
    "            optimizer.zero_grad()\n",
    "        \n",
    "        # Validation phase\n",
    "        result = evaluate(model, val_loader)\n",
    "        model.epoch_end(epoch, result)\n",
    "        history.append(result)\n",
    "\n",
    "    return history"
   ]
  },
  {
   "cell_type": "markdown",
   "id": "6e9cd2bf",
   "metadata": {},
   "source": [
    "The `fit` function records the validation loss and metric from each epoch. It returns a history of the training, useful for debugging & visualization.\n",
    "\n",
    "Configurations like batch size, learning rate, etc. (called hyperparameters), need to picked in advance while training machine learning models. Choosing the right hyperparameters is critical for training a reasonably accurate model within a reasonable amount of time. It is an active area of research and experimentation in machine learning. Feel free to try different learning rates and see how it affects the training process.\n",
    "\n",
    "Let's define the `evaluate` function, used in the validation phase of `fit`."
   ]
  },
  {
   "cell_type": "code",
   "execution_count": 50,
   "id": "fd92fbc6",
   "metadata": {
    "ExecuteTime": {
     "end_time": "2021-06-11T20:16:20.871456Z",
     "start_time": "2021-06-11T20:16:20.866481Z"
    }
   },
   "outputs": [],
   "source": [
    "l1 = [1, 2, 3, 4, 5]"
   ]
  },
  {
   "cell_type": "code",
   "execution_count": 51,
   "id": "4ec5c00d",
   "metadata": {
    "ExecuteTime": {
     "end_time": "2021-06-11T20:16:21.680488Z",
     "start_time": "2021-06-11T20:16:21.674490Z"
    }
   },
   "outputs": [
    {
     "data": {
      "text/plain": [
       "[2, 4, 6, 8, 10]"
      ]
     },
     "execution_count": 51,
     "metadata": {},
     "output_type": "execute_result"
    }
   ],
   "source": [
    "l2 = [x*2 for x in l1]\n",
    "l2"
   ]
  },
  {
   "cell_type": "code",
   "execution_count": 52,
   "id": "b9703e4f",
   "metadata": {
    "ExecuteTime": {
     "end_time": "2021-06-11T20:16:23.170230Z",
     "start_time": "2021-06-11T20:16:23.166248Z"
    }
   },
   "outputs": [],
   "source": [
    "def evaluate(model, val_loader):\n",
    "    outputs = [model.validation_step(batch) for batch in val_loader]\n",
    "    return model.validation_epoch_end(outputs)"
   ]
  },
  {
   "cell_type": "markdown",
   "id": "1ea55d4d",
   "metadata": {},
   "source": [
    "Finally, let's redefine the MnistModel class to include additional methods training_step, validation_step, validation_epoch_end, and epoch_end used by fit and evaluate"
   ]
  },
  {
   "cell_type": "code",
   "execution_count": 53,
   "id": "7e254461",
   "metadata": {
    "ExecuteTime": {
     "end_time": "2021-06-11T20:16:26.231332Z",
     "start_time": "2021-06-11T20:16:26.219339Z"
    }
   },
   "outputs": [],
   "source": [
    "class MnistModel(nn.Module):\n",
    "    def __init__(self):\n",
    "        super().__init__()\n",
    "        self.linear = nn.Linear(input_size, num_classes)\n",
    "        \n",
    "    def forward(self, xb):\n",
    "        xb = xb.reshape(-1, 784)\n",
    "        out = self.linear(xb)\n",
    "        return out\n",
    "    \n",
    "    def training_step(self, batch):\n",
    "        images, labels = batch \n",
    "        out = self(images)                  # Generate predictions\n",
    "        loss = F.cross_entropy(out, labels) # Calculate loss\n",
    "        return loss\n",
    "    \n",
    "    def validation_step(self, batch):\n",
    "        images, labels = batch \n",
    "        out = self(images)                    # Generate predictions\n",
    "        loss = F.cross_entropy(out, labels)   # Calculate loss\n",
    "        acc = accuracy(out, labels)           # Calculate accuracy\n",
    "        return {'val_loss': loss, 'val_acc': acc}\n",
    "        \n",
    "    def validation_epoch_end(self, outputs):\n",
    "        batch_losses = [x['val_loss'] for x in outputs]\n",
    "        epoch_loss = torch.stack(batch_losses).mean()   # Combine losses\n",
    "        batch_accs = [x['val_acc'] for x in outputs]\n",
    "        epoch_acc = torch.stack(batch_accs).mean()      # Combine accuracies\n",
    "        return {'val_loss': epoch_loss.item(), 'val_acc': epoch_acc.item()}\n",
    "    \n",
    "    def epoch_end(self, epoch, result):\n",
    "        print(\"Epoch [{}], val_loss: {:.4f}, val_acc: {:.4f}\".format(epoch, result['val_loss'], result['val_acc']))\n",
    "    \n",
    "model = MnistModel()"
   ]
  },
  {
   "cell_type": "markdown",
   "id": "28069ced",
   "metadata": {},
   "source": [
    "Before we train the model, let's see how the model performs on the validation set with the initial set of randomly initialized weights & biases.\n",
    "\n"
   ]
  },
  {
   "cell_type": "code",
   "execution_count": 54,
   "id": "dbded9c7",
   "metadata": {
    "ExecuteTime": {
     "end_time": "2021-06-11T20:16:29.975804Z",
     "start_time": "2021-06-11T20:16:28.684458Z"
    }
   },
   "outputs": [
    {
     "data": {
      "text/plain": [
       "{'val_loss': 2.3085076808929443, 'val_acc': 0.09859573096036911}"
      ]
     },
     "execution_count": 54,
     "metadata": {},
     "output_type": "execute_result"
    }
   ],
   "source": [
    "result0 = evaluate(model, val_loader)\n",
    "result0"
   ]
  },
  {
   "cell_type": "markdown",
   "id": "20f48d3a",
   "metadata": {},
   "source": [
    "The initial accuracy is around 10%, which one might expect from a randomly initialized model (since it has a 1 in 10 chance of getting a label right by guessing randomly).\n",
    "\n",
    "We are now ready to train the model. Let's train for five epochs and look at the result"
   ]
  },
  {
   "cell_type": "code",
   "execution_count": 55,
   "id": "78b86a48",
   "metadata": {
    "ExecuteTime": {
     "end_time": "2021-06-11T20:17:29.484326Z",
     "start_time": "2021-06-11T20:16:32.906475Z"
    }
   },
   "outputs": [
    {
     "name": "stdout",
     "output_type": "stream",
     "text": [
      "Epoch [0], val_loss: 1.9454, val_acc: 0.6253\n",
      "Epoch [1], val_loss: 1.6787, val_acc: 0.7285\n",
      "Epoch [2], val_loss: 1.4788, val_acc: 0.7664\n",
      "Epoch [3], val_loss: 1.3277, val_acc: 0.7837\n",
      "Epoch [4], val_loss: 1.2114, val_acc: 0.7971\n"
     ]
    }
   ],
   "source": [
    "history1 = fit(5, 0.001, model, train_loader, val_loader)"
   ]
  },
  {
   "cell_type": "markdown",
   "id": "0553615d",
   "metadata": {},
   "source": [
    "That's a great result! With just 5 epochs of training, our model has reached an accuracy of over 80% on the validation set. Let's see if we can improve that by training for a few more epochs. Try changing the learning rates and number of epochs in each of the cells below."
   ]
  },
  {
   "cell_type": "code",
   "execution_count": 56,
   "id": "8ed3bbf2",
   "metadata": {
    "ExecuteTime": {
     "end_time": "2021-06-11T20:19:18.157756Z",
     "start_time": "2021-06-11T20:18:31.094879Z"
    }
   },
   "outputs": [
    {
     "name": "stdout",
     "output_type": "stream",
     "text": [
      "Epoch [0], val_loss: 1.1201, val_acc: 0.8048\n",
      "Epoch [1], val_loss: 1.0470, val_acc: 0.8116\n",
      "Epoch [2], val_loss: 0.9871, val_acc: 0.8179\n",
      "Epoch [3], val_loss: 0.9373, val_acc: 0.8219\n",
      "Epoch [4], val_loss: 0.8952, val_acc: 0.8259\n"
     ]
    }
   ],
   "source": [
    "history2 = fit(5, 0.001, model, train_loader, val_loader)"
   ]
  },
  {
   "cell_type": "code",
   "execution_count": 57,
   "id": "9fd85d25",
   "metadata": {
    "ExecuteTime": {
     "end_time": "2021-06-11T20:20:09.880071Z",
     "start_time": "2021-06-11T20:19:25.789136Z"
    }
   },
   "outputs": [
    {
     "name": "stdout",
     "output_type": "stream",
     "text": [
      "Epoch [0], val_loss: 0.8591, val_acc: 0.8297\n",
      "Epoch [1], val_loss: 0.8279, val_acc: 0.8323\n",
      "Epoch [2], val_loss: 0.8006, val_acc: 0.8345\n",
      "Epoch [3], val_loss: 0.7765, val_acc: 0.8372\n",
      "Epoch [4], val_loss: 0.7550, val_acc: 0.8388\n"
     ]
    }
   ],
   "source": [
    "history3 = fit(5, 0.001, model, train_loader, val_loader)"
   ]
  },
  {
   "cell_type": "code",
   "execution_count": 58,
   "id": "085099b0",
   "metadata": {
    "ExecuteTime": {
     "end_time": "2021-06-11T20:21:01.693767Z",
     "start_time": "2021-06-11T20:20:15.590818Z"
    }
   },
   "outputs": [
    {
     "name": "stdout",
     "output_type": "stream",
     "text": [
      "Epoch [0], val_loss: 0.7357, val_acc: 0.8423\n",
      "Epoch [1], val_loss: 0.7183, val_acc: 0.8443\n",
      "Epoch [2], val_loss: 0.7026, val_acc: 0.8471\n",
      "Epoch [3], val_loss: 0.6881, val_acc: 0.8493\n",
      "Epoch [4], val_loss: 0.6749, val_acc: 0.8503\n"
     ]
    }
   ],
   "source": [
    "history4 = fit(5, 0.001, model, train_loader, val_loader)"
   ]
  },
  {
   "cell_type": "markdown",
   "id": "c3c6a78b",
   "metadata": {},
   "source": [
    "While the accuracy does continue to increase as we train for more epochs, the improvements get smaller with every epoch. Let's visualize this using a line graph."
   ]
  },
  {
   "cell_type": "code",
   "execution_count": 59,
   "id": "d75e0168",
   "metadata": {
    "ExecuteTime": {
     "end_time": "2021-06-11T20:21:10.263821Z",
     "start_time": "2021-06-11T20:21:09.823654Z"
    }
   },
   "outputs": [
    {
     "data": {
      "image/png": "[encoded data removed]",
      "text/plain": [
       "<Figure size 432x288 with 1 Axes>"
      ]
     },
     "metadata": {
      "needs_background": "light"
     },
     "output_type": "display_data"
    }
   ],
   "source": [
    "history = [result0] + history1 + history2 + history3 + history4\n",
    "accuracies = [result['val_acc'] for result in history]\n",
    "plt.plot(accuracies, '-x')\n",
    "plt.xlabel('epoch')\n",
    "plt.ylabel('accuracy')\n",
    "plt.title('Accuracy vs. No. of epochs');"
   ]
  },
  {
   "cell_type": "markdown",
   "id": "d0e5274d",
   "metadata": {},
   "source": [
    "## Testing with individual images\n"
   ]
  },
  {
   "cell_type": "markdown",
   "id": "38631fe0",
   "metadata": {},
   "source": [
    "While we have been tracking the overall accuracy of a model so far, it's also a good idea to look at model's results on some sample images. Let's test out our model with some images from the predefined test dataset of 10000 images. We begin by recreating the test dataset with the ToTensor transform."
   ]
  },
  {
   "cell_type": "code",
   "execution_count": 60,
   "id": "2435b4be",
   "metadata": {
    "ExecuteTime": {
     "end_time": "2021-06-11T20:21:28.169443Z",
     "start_time": "2021-06-11T20:21:28.156471Z"
    }
   },
   "outputs": [],
   "source": [
    "# Define test dataset\n",
    "test_dataset = MNIST(root='data/', \n",
    "                     train=False,\n",
    "                     transform=transforms.ToTensor())"
   ]
  },
  {
   "cell_type": "markdown",
   "id": "14a0b424",
   "metadata": {},
   "source": [
    "Here's a sample image from the dataset.\n",
    "\n"
   ]
  },
  {
   "cell_type": "code",
   "execution_count": 61,
   "id": "24427002",
   "metadata": {
    "ExecuteTime": {
     "end_time": "2021-06-11T20:21:31.595076Z",
     "start_time": "2021-06-11T20:21:31.449594Z"
    }
   },
   "outputs": [
    {
     "name": "stdout",
     "output_type": "stream",
     "text": [
      "Shape: torch.Size([1, 28, 28])\n",
      "Label: 7\n"
     ]
    },
    {
     "data": {
      "image/png": "[encoded data removed]",
      "text/plain": [
       "<Figure size 432x288 with 1 Axes>"
      ]
     },
     "metadata": {
      "needs_background": "light"
     },
     "output_type": "display_data"
    }
   ],
   "source": [
    "img, label = test_dataset[0]\n",
    "plt.imshow(img[0], cmap='gray')\n",
    "print('Shape:', img.shape)\n",
    "print('Label:', label)"
   ]
  },
  {
   "cell_type": "markdown",
   "id": "fc2560b6",
   "metadata": {},
   "source": [
    "Let's define a helper function predict_image, which returns the predicted label for a single image tensor.\n",
    "\n"
   ]
  },
  {
   "cell_type": "code",
   "execution_count": 62,
   "id": "24ababe9",
   "metadata": {
    "ExecuteTime": {
     "end_time": "2021-06-11T20:21:33.848146Z",
     "start_time": "2021-06-11T20:21:33.843145Z"
    }
   },
   "outputs": [],
   "source": [
    "def predict_image(img, model):\n",
    "    xb = img.unsqueeze(0)\n",
    "    yb = model(xb)\n",
    "    _, preds = torch.max(yb, dim=1)\n",
    "    return preds[0].item()"
   ]
  },
  {
   "cell_type": "markdown",
   "id": "edaf6eda",
   "metadata": {},
   "source": [
    "`img.unsqueeze` simply adds another dimension at the begining of the 1x28x28 tensor, making it a 1x1x28x28 tensor, which the model views as a batch containing a single image.\n",
    "\n",
    "Let's try it out with a few images."
   ]
  },
  {
   "cell_type": "code",
   "execution_count": 65,
   "id": "b63f517f",
   "metadata": {
    "ExecuteTime": {
     "end_time": "2021-06-11T20:21:41.429287Z",
     "start_time": "2021-06-11T20:21:41.249857Z"
    }
   },
   "outputs": [
    {
     "name": "stdout",
     "output_type": "stream",
     "text": [
      "Label: 7 , Predicted: 7\n"
     ]
    },
    {
     "data": {
      "image/png": "[encoded data removed]",
      "text/plain": [
       "<Figure size 432x288 with 1 Axes>"
      ]
     },
     "metadata": {
      "needs_background": "light"
     },
     "output_type": "display_data"
    }
   ],
   "source": [
    "img, label = test_dataset[0]\n",
    "plt.imshow(img[0], cmap='gray')\n",
    "print('Label:', label, ', Predicted:', predict_image(img, model))"
   ]
  },
  {
   "cell_type": "code",
   "execution_count": 66,
   "id": "f34b091f",
   "metadata": {
    "ExecuteTime": {
     "end_time": "2021-06-11T20:21:44.032702Z",
     "start_time": "2021-06-11T20:21:43.884037Z"
    }
   },
   "outputs": [
    {
     "name": "stdout",
     "output_type": "stream",
     "text": [
      "Label: 0 , Predicted: 0\n"
     ]
    },
    {
     "data": {
      "image/png": "[encoded data removed]",
      "text/plain": [
       "<Figure size 432x288 with 1 Axes>"
      ]
     },
     "metadata": {
      "needs_background": "light"
     },
     "output_type": "display_data"
    }
   ],
   "source": [
    "img, label = test_dataset[10]\n",
    "plt.imshow(img[0], cmap='gray')\n",
    "print('Label:', label, ', Predicted:', predict_image(img, model))"
   ]
  },
  {
   "cell_type": "code",
   "execution_count": 67,
   "id": "2c7cdc03",
   "metadata": {
    "ExecuteTime": {
     "end_time": "2021-06-11T20:21:46.787512Z",
     "start_time": "2021-06-11T20:21:46.639748Z"
    }
   },
   "outputs": [
    {
     "name": "stdout",
     "output_type": "stream",
     "text": [
      "Label: 9 , Predicted: 4\n"
     ]
    },
    {
     "data": {
      "image/png": "[encoded data removed]",
      "text/plain": [
       "<Figure size 432x288 with 1 Axes>"
      ]
     },
     "metadata": {
      "needs_background": "light"
     },
     "output_type": "display_data"
    }
   ],
   "source": [
    "img, label = test_dataset[193]\n",
    "plt.imshow(img[0], cmap='gray')\n",
    "print('Label:', label, ', Predicted:', predict_image(img, model))"
   ]
  },
  {
   "cell_type": "code",
   "execution_count": 68,
   "id": "a4aa6d0b",
   "metadata": {
    "ExecuteTime": {
     "end_time": "2021-06-11T20:21:49.312370Z",
     "start_time": "2021-06-11T20:21:49.108487Z"
    }
   },
   "outputs": [
    {
     "name": "stdout",
     "output_type": "stream",
     "text": [
      "Label: 2 , Predicted: 8\n"
     ]
    },
    {
     "data": {
      "image/png": "[encoded data removed]",
      "text/plain": [
       "<Figure size 432x288 with 1 Axes>"
      ]
     },
     "metadata": {
      "needs_background": "light"
     },
     "output_type": "display_data"
    }
   ],
   "source": [
    "img, label = test_dataset[1839]\n",
    "plt.imshow(img[0], cmap='gray')\n",
    "print('Label:', label, ', Predicted:', predict_image(img, model))"
   ]
  },
  {
   "cell_type": "markdown",
   "id": "61af1c9e",
   "metadata": {},
   "source": [
    "Identifying where our model performs poorly can help us improve the model, by collecting more training data, increasing/decreasing the complexity of the model, and changing the hypeparameters.\n",
    "\n",
    "As a final step, let's also look at the overall loss and accuracy of the model on the test set."
   ]
  },
  {
   "cell_type": "code",
   "execution_count": 69,
   "id": "77a284b9",
   "metadata": {
    "ExecuteTime": {
     "end_time": "2021-06-11T20:22:01.780166Z",
     "start_time": "2021-06-11T20:22:00.596617Z"
    }
   },
   "outputs": [
    {
     "data": {
      "text/plain": [
       "{'val_loss': 0.6381689310073853, 'val_acc': 0.8624023199081421}"
      ]
     },
     "execution_count": 69,
     "metadata": {},
     "output_type": "execute_result"
    }
   ],
   "source": [
    "test_loader = DataLoader(test_dataset, batch_size=256)\n",
    "result = evaluate(model, test_loader)\n",
    "result"
   ]
  },
  {
   "cell_type": "code",
   "execution_count": null,
   "id": "475e5288",
   "metadata": {},
   "outputs": [],
   "source": []
  },
  {
   "cell_type": "markdown",
   "id": "c183a04b",
   "metadata": {},
   "source": [
    "## Testing the OpenCV generated hadwriting dataset"
   ]
  },
  {
   "cell_type": "code",
   "execution_count": 73,
   "id": "69e1836d",
   "metadata": {
    "ExecuteTime": {
     "end_time": "2021-06-11T20:23:45.106253Z",
     "start_time": "2021-06-11T20:23:45.098275Z"
    }
   },
   "outputs": [],
   "source": [
    "from torchvision import datasets, transforms\n",
    "root_dir = 'data/MNIST/'\n",
    "transformer = transforms.Compose([                                      \n",
    "                                       transforms.ToTensor(),\n",
    "                                       transforms.Normalize([0.5, 0.5, 0.5],\n",
    "                                                            [0.5, 0.5, 0.5])])\n",
    "# Pass transforms in here, then run the next cell to see how the transforms look\n",
    "test_dataset = datasets.ImageFolder(root_dir, transform=transformer)"
   ]
  },
  {
   "cell_type": "code",
   "execution_count": 74,
   "id": "fcf0341a",
   "metadata": {
    "ExecuteTime": {
     "end_time": "2021-06-11T20:23:59.355895Z",
     "start_time": "2021-06-11T20:23:59.349917Z"
    }
   },
   "outputs": [
    {
     "data": {
      "text/plain": [
       "5"
      ]
     },
     "execution_count": 74,
     "metadata": {},
     "output_type": "execute_result"
    }
   ],
   "source": [
    "len(test_dataset)"
   ]
  },
  {
   "cell_type": "code",
   "execution_count": 75,
   "id": "a5aa6ad1",
   "metadata": {
    "ExecuteTime": {
     "end_time": "2021-06-11T20:24:17.194123Z",
     "start_time": "2021-06-11T20:24:16.853192Z"
    }
   },
   "outputs": [
    {
     "name": "stdout",
     "output_type": "stream",
     "text": [
      "Label: 2 , Predicted: 0\n"
     ]
    },
    {
     "data": {
      "image/png": "[encoded data removed]",
      "text/plain": [
       "<Figure size 432x288 with 1 Axes>"
      ]
     },
     "metadata": {
      "needs_background": "light"
     },
     "output_type": "display_data"
    }
   ],
   "source": [
    "img, label = test_dataset[0]\n",
    "plt.imshow(img[0], cmap='gray')\n",
    "print('Label:', label, ', Predicted:', predict_image(img, model))"
   ]
  },
  {
   "cell_type": "code",
   "execution_count": 76,
   "id": "a8b94086",
   "metadata": {
    "ExecuteTime": {
     "end_time": "2021-06-11T20:24:33.191885Z",
     "start_time": "2021-06-11T20:24:32.977192Z"
    }
   },
   "outputs": [
    {
     "name": "stdout",
     "output_type": "stream",
     "text": [
      "Label: 2 , Predicted: 1\n"
     ]
    },
    {
     "data": {
      "image/png": "[encoded data removed]",
      "text/plain": [
       "<Figure size 432x288 with 1 Axes>"
      ]
     },
     "metadata": {
      "needs_background": "light"
     },
     "output_type": "display_data"
    }
   ],
   "source": [
    "img, label = test_dataset[1]\n",
    "plt.imshow(img[0], cmap='gray')\n",
    "print('Label:', label, ', Predicted:', predict_image(img, model))"
   ]
  },
  {
   "cell_type": "code",
   "execution_count": 83,
   "id": "03262dfe",
   "metadata": {
    "ExecuteTime": {
     "end_time": "2021-06-11T20:25:40.813081Z",
     "start_time": "2021-06-11T20:25:40.661952Z"
    }
   },
   "outputs": [
    {
     "name": "stdout",
     "output_type": "stream",
     "text": [
      "Label: 2 , Predicted: 3\n"
     ]
    },
    {
     "data": {
      "image/png": "[encoded data removed]",
      "text/plain": [
       "<Figure size 432x288 with 1 Axes>"
      ]
     },
     "metadata": {
      "needs_background": "light"
     },
     "output_type": "display_data"
    }
   ],
   "source": [
    "img, label = test_dataset[2]\n",
    "plt.imshow(img[0], cmap='gray')\n",
    "print('Label:', label, ', Predicted:', predict_image(img, model))"
   ]
  },
  {
   "cell_type": "code",
   "execution_count": 84,
   "id": "5b754cdd",
   "metadata": {
    "ExecuteTime": {
     "end_time": "2021-06-11T20:25:43.157319Z",
     "start_time": "2021-06-11T20:25:43.001918Z"
    }
   },
   "outputs": [
    {
     "name": "stdout",
     "output_type": "stream",
     "text": [
      "Label: 2 , Predicted: 4\n"
     ]
    },
    {
     "data": {
      "image/png": "[encoded data removed]",
      "text/plain": [
       "<Figure size 432x288 with 1 Axes>"
      ]
     },
     "metadata": {
      "needs_background": "light"
     },
     "output_type": "display_data"
    }
   ],
   "source": [
    "img, label = test_dataset[3]\n",
    "plt.imshow(img[0], cmap='gray')\n",
    "print('Label:', label, ', Predicted:', predict_image(img, model))"
   ]
  },
  {
   "cell_type": "code",
   "execution_count": 85,
   "id": "f68ab5f5",
   "metadata": {
    "ExecuteTime": {
     "end_time": "2021-06-11T20:25:47.944384Z",
     "start_time": "2021-06-11T20:25:47.790894Z"
    }
   },
   "outputs": [
    {
     "name": "stdout",
     "output_type": "stream",
     "text": [
      "Label: 2 , Predicted: 4\n"
     ]
    },
    {
     "data": {
      "image/png": "[encoded data removed]",
      "text/plain": [
       "<Figure size 432x288 with 1 Axes>"
      ]
     },
     "metadata": {
      "needs_background": "light"
     },
     "output_type": "display_data"
    }
   ],
   "source": [
    "img, label = test_dataset[4]\n",
    "plt.imshow(img[0], cmap='gray')\n",
    "print('Label:', label, ', Predicted:', predict_image(img, model))"
   ]
  },
  {
   "cell_type": "markdown",
   "id": "a4838828",
   "metadata": {},
   "source": [
    "## Saving and loading the model\n",
    "\n",
    "Since we've trained our model for a long time and achieved a resonable accuracy, it would be a good idea to save the weights and bias matrices to disk, so that we can reuse the model later and avoid retraining from scratch. Here's how you can save the model."
   ]
  },
  {
   "cell_type": "code",
   "execution_count": 129,
   "id": "1dd58bb8",
   "metadata": {},
   "outputs": [],
   "source": [
    "torch.save(model.state_dict(), 'mnist-logistic.pth')"
   ]
  },
  {
   "cell_type": "markdown",
   "id": "d9071988",
   "metadata": {},
   "source": [
    "The `.state_dict` method returns an `OrderedDict` containing all the weights and bias matrices mapped to the right attributes of the model."
   ]
  },
  {
   "cell_type": "code",
   "execution_count": 130,
   "id": "0f63c3d2",
   "metadata": {},
   "outputs": [
    {
     "data": {
      "text/plain": [
       "OrderedDict([('linear.weight',\n",
       "              tensor([[-0.0297, -0.0244, -0.0017,  ...,  0.0061,  0.0112,  0.0088],\n",
       "                      [-0.0059, -0.0020, -0.0043,  ...,  0.0201, -0.0314,  0.0270],\n",
       "                      [ 0.0097, -0.0348, -0.0288,  ..., -0.0111, -0.0042,  0.0134],\n",
       "                      ...,\n",
       "                      [ 0.0028, -0.0022, -0.0157,  ..., -0.0220,  0.0029,  0.0103],\n",
       "                      [-0.0142, -0.0203, -0.0229,  ...,  0.0010, -0.0214,  0.0123],\n",
       "                      [ 0.0182,  0.0125,  0.0311,  ..., -0.0271,  0.0102,  0.0310]])),\n",
       "             ('linear.bias',\n",
       "              tensor([-0.0740,  0.1092, -0.0090, -0.0173,  0.0529,  0.0157, -0.0037,  0.0722,\n",
       "                      -0.0916, -0.0354]))])"
      ]
     },
     "execution_count": 130,
     "metadata": {},
     "output_type": "execute_result"
    }
   ],
   "source": [
    "model.state_dict()"
   ]
  },
  {
   "cell_type": "markdown",
   "id": "f2745806",
   "metadata": {},
   "source": [
    "To load the model weights, we can instante a new object of the class `MnistModel`, and use the `.load_state_dict` method."
   ]
  },
  {
   "cell_type": "code",
   "execution_count": 131,
   "id": "2b1326fd",
   "metadata": {},
   "outputs": [],
   "source": [
    "model2 = MnistModel()"
   ]
  },
  {
   "cell_type": "code",
   "execution_count": 132,
   "id": "34035201",
   "metadata": {},
   "outputs": [
    {
     "data": {
      "text/plain": [
       "OrderedDict([('linear.weight',\n",
       "              tensor([[-0.0096, -0.0004,  0.0163,  ..., -0.0164, -0.0059,  0.0357],\n",
       "                      [ 0.0045, -0.0037, -0.0207,  ..., -0.0223,  0.0194,  0.0189],\n",
       "                      [-0.0146, -0.0184, -0.0026,  ..., -0.0226,  0.0299,  0.0263],\n",
       "                      ...,\n",
       "                      [-0.0346, -0.0222,  0.0308,  ...,  0.0207, -0.0269, -0.0108],\n",
       "                      [-0.0122,  0.0344, -0.0304,  ..., -0.0299, -0.0180, -0.0342],\n",
       "                      [ 0.0176,  0.0311, -0.0169,  ...,  0.0247, -0.0154, -0.0262]])),\n",
       "             ('linear.bias',\n",
       "              tensor([ 0.0123, -0.0333,  0.0263,  0.0024,  0.0270,  0.0038, -0.0045,  0.0284,\n",
       "                      -0.0182,  0.0023]))])"
      ]
     },
     "execution_count": 132,
     "metadata": {},
     "output_type": "execute_result"
    }
   ],
   "source": [
    "model2.state_dict()"
   ]
  },
  {
   "cell_type": "code",
   "execution_count": 133,
   "id": "f14a83b5",
   "metadata": {},
   "outputs": [
    {
     "data": {
      "text/plain": [
       "{'val_loss': 2.323889970779419, 'val_acc': 0.11162109673023224}"
      ]
     },
     "execution_count": 133,
     "metadata": {},
     "output_type": "execute_result"
    }
   ],
   "source": [
    "evaluate(model2, test_loader)"
   ]
  },
  {
   "cell_type": "code",
   "execution_count": 134,
   "id": "aee85d7a",
   "metadata": {},
   "outputs": [
    {
     "data": {
      "text/plain": [
       "OrderedDict([('linear.weight',\n",
       "              tensor([[-0.0297, -0.0244, -0.0017,  ...,  0.0061,  0.0112,  0.0088],\n",
       "                      [-0.0059, -0.0020, -0.0043,  ...,  0.0201, -0.0314,  0.0270],\n",
       "                      [ 0.0097, -0.0348, -0.0288,  ..., -0.0111, -0.0042,  0.0134],\n",
       "                      ...,\n",
       "                      [ 0.0028, -0.0022, -0.0157,  ..., -0.0220,  0.0029,  0.0103],\n",
       "                      [-0.0142, -0.0203, -0.0229,  ...,  0.0010, -0.0214,  0.0123],\n",
       "                      [ 0.0182,  0.0125,  0.0311,  ..., -0.0271,  0.0102,  0.0310]])),\n",
       "             ('linear.bias',\n",
       "              tensor([-0.0740,  0.1092, -0.0090, -0.0173,  0.0529,  0.0157, -0.0037,  0.0722,\n",
       "                      -0.0916, -0.0354]))])"
      ]
     },
     "execution_count": 134,
     "metadata": {},
     "output_type": "execute_result"
    }
   ],
   "source": [
    "model2.load_state_dict(torch.load('mnist-logistic.pth'))\n",
    "model2.state_dict()"
   ]
  },
  {
   "cell_type": "markdown",
   "id": "d7dbd9b5",
   "metadata": {},
   "source": [
    "Just as a sanity check, let's verify that this model has the same loss and accuracy on the test set as before.\n",
    "\n"
   ]
  },
  {
   "cell_type": "code",
   "execution_count": 135,
   "id": "7ce5eb29",
   "metadata": {},
   "outputs": [
    {
     "data": {
      "text/plain": [
       "{'val_loss': 0.6422713398933411, 'val_acc': 0.8587890863418579}"
      ]
     },
     "execution_count": 135,
     "metadata": {},
     "output_type": "execute_result"
    }
   ],
   "source": [
    "test_loader = DataLoader(test_dataset, batch_size=256)\n",
    "result = evaluate(model2, test_loader)\n",
    "result"
   ]
  },
  {
   "cell_type": "markdown",
   "id": "5aea829e",
   "metadata": {},
   "source": [
    "**Farrukh Bulbulov**"
   ]
  }
 ],
 "metadata": {
  "kernelspec": {
   "display_name": "Python 3",
   "language": "python",
   "name": "python3"
  },
  "language_info": {
   "codemirror_mode": {
    "name": "ipython",
    "version": 3
   },
   "file_extension": ".py",
   "mimetype": "text/x-python",
   "name": "python",
   "nbconvert_exporter": "python",
   "pygments_lexer": "ipython3",
   "version": "3.9.5"
  }
 },
 "nbformat": 4,
 "nbformat_minor": 5
}
